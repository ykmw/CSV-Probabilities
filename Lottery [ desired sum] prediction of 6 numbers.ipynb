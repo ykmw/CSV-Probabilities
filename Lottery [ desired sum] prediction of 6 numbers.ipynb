{
 "cells": [
  {
   "cell_type": "code",
   "execution_count": null,
   "id": "b0351f76",
   "metadata": {},
   "outputs": [],
   "source": [
    "import csv\n",
    "import itertools\n",
    "\n",
    "# Step 1: Load the Data\n",
    "data = []\n",
    "with open('yourCSVfile.csv', 'r') as file:\n",
    "    reader = csv.reader(file)\n",
    "    next(reader)  # Skip the header row\n",
    "    for row in reader:\n",
    "        data.append(list(map(int, row[1:7])))\n",
    "\n",
    "# Step 2: Calculate Probabilities\n",
    "probabilities = [[0] * 49 for _ in range(6)]\n",
    "total_draws = len(data)\n",
    "\n",
    "for draw in data:\n",
    "    for i, num in enumerate(draw):\n",
    "        probabilities[i][num - 1] += 1\n",
    "\n",
    "for i in range(6):\n",
    "    for j in range(49):\n",
    "        probabilities[i][j] /= total_draws\n",
    "\n",
    "# Step 3: Select Numbers Based on Highest Probabilities\n",
    "top_numbers = [[] for _ in range(6)]\n",
    "\n",
    "for i in range(6):\n",
    "    top_indices = sorted(range(49), key=lambda x: probabilities[i][x], reverse=True)[:20]\n",
    "    top_numbers[i] = [num + 1 for num in top_indices]\n",
    "\n",
    "# Step 4: Generate Combinations with Desired Sums\n",
    "desired_sums = [119, 162, 138]\n",
    "selected_combinations = [[] for _ in range(len(desired_sums))]\n",
    "\n",
    "for i in range(6):\n",
    "    for combination in itertools.combinations(top_numbers[i], 6):\n",
    "        combination_sum = sum(combination)\n",
    "        for j, desired_sum in enumerate(desired_sums):\n",
    "            if combination_sum == desired_sum:\n",
    "                selected_combinations[j].append(combination)\n",
    "\n",
    "# # Step 5 Print the selected combinations\n",
    "# for i, desired_sum in enumerate(desired_sums):\n",
    "#     print(f\"Combinations for sum {desired_sum}:\")\n",
    "#     for combination in selected_combinations[i]:\n",
    "#         print(combination)\n",
    "#     print()\n"
   ]
  }
 ],
 "metadata": {
  "kernelspec": {
   "display_name": "Python 3 (ipykernel)",
   "language": "python",
   "name": "python3"
  },
  "language_info": {
   "codemirror_mode": {
    "name": "ipython",
    "version": 3
   },
   "file_extension": ".py",
   "mimetype": "text/x-python",
   "name": "python",
   "nbconvert_exporter": "python",
   "pygments_lexer": "ipython3",
   "version": "3.10.9"
  }
 },
 "nbformat": 4,
 "nbformat_minor": 5
}
